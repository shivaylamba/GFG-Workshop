{
  "nbformat": 4,
  "nbformat_minor": 0,
  "metadata": {
    "colab": {
      "name": "Untitled2.ipynb",
      "provenance": []
    },
    "kernelspec": {
      "name": "python3",
      "display_name": "Python 3"
    },
    "language_info": {
      "name": "python"
    }
  },
  "cells": [
    {
      "cell_type": "code",
      "metadata": {
        "id": "WgmfF62Sh9gC"
      },
      "source": [
        "# prediction function : \n",
        "def predict(rows, coefficients):\n",
        "\n",
        "  for i in range(len(row) - 1):\n",
        "    y += coefficients[i+1]* row[i]\n",
        "  return 1.0./(1.0 + exp(-y))"
      ],
      "execution_count": null,
      "outputs": []
    },
    {
      "cell_type": "code",
      "metadata": {
        "id": "2aq4cYiVq9sv"
      },
      "source": [
        "import numpy as np \n",
        "import pandas as pd "
      ],
      "execution_count": null,
      "outputs": []
    },
    {
      "cell_type": "code",
      "metadata": {
        "id": "aHxXp6yjq9v1"
      },
      "source": [
        "df = pd.read_csv('diabetes.csv')"
      ],
      "execution_count": null,
      "outputs": []
    },
    {
      "cell_type": "code",
      "metadata": {
        "colab": {
          "base_uri": "https://localhost:8080/"
        },
        "id": "in3rH7Byq9y4",
        "outputId": "d9bb78e6-cd21-4ab4-c4d7-1f20c36d61b2"
      },
      "source": [
        "print(df)"
      ],
      "execution_count": null,
      "outputs": [
        {
          "output_type": "stream",
          "text": [
            "     Pregnancies  Glucose  ...  Age  Outcome\n",
            "0              6      148  ...   50        1\n",
            "1              1       85  ...   31        0\n",
            "2              8      183  ...   32        1\n",
            "3              1       89  ...   21        0\n",
            "4              0      137  ...   33        1\n",
            "..           ...      ...  ...  ...      ...\n",
            "763           10      101  ...   63        0\n",
            "764            2      122  ...   27        0\n",
            "765            5      121  ...   30        0\n",
            "766            1      126  ...   47        1\n",
            "767            1       93  ...   23        0\n",
            "\n",
            "[768 rows x 9 columns]\n"
          ],
          "name": "stdout"
        }
      ]
    },
    {
      "cell_type": "code",
      "metadata": {
        "colab": {
          "base_uri": "https://localhost:8080/"
        },
        "id": "1qU3wX2jq92P",
        "outputId": "55310fcd-ceb2-40a8-ee99-12e706f88f2e"
      },
      "source": [
        "print(df.describe)"
      ],
      "execution_count": null,
      "outputs": [
        {
          "output_type": "stream",
          "text": [
            "<bound method NDFrame.describe of      Pregnancies  Glucose  ...  Age  Outcome\n",
            "0              6      148  ...   50        1\n",
            "1              1       85  ...   31        0\n",
            "2              8      183  ...   32        1\n",
            "3              1       89  ...   21        0\n",
            "4              0      137  ...   33        1\n",
            "..           ...      ...  ...  ...      ...\n",
            "763           10      101  ...   63        0\n",
            "764            2      122  ...   27        0\n",
            "765            5      121  ...   30        0\n",
            "766            1      126  ...   47        1\n",
            "767            1       93  ...   23        0\n",
            "\n",
            "[768 rows x 9 columns]>\n"
          ],
          "name": "stdout"
        }
      ]
    },
    {
      "cell_type": "code",
      "metadata": {
        "colab": {
          "base_uri": "https://localhost:8080/"
        },
        "id": "4eLchnGVr2XS",
        "outputId": "8b50e7b8-bd17-4c95-d0aa-adbc338394df"
      },
      "source": [
        "y = df.Outcome\n",
        "x = df.drop('Outcome', axis = 1)\n",
        "columns = x.columns\n",
        "\n",
        "from sklearn.preprocessing import StandardScaler\n",
        "scaler = StandardScaler()\n",
        "X  = scaler.fit_transform(x)\n",
        "\n",
        "\n",
        "data_x = pd.DataFrame(X, columns = columns)\n",
        "print(data_x)"
      ],
      "execution_count": null,
      "outputs": [
        {
          "output_type": "stream",
          "text": [
            "     Pregnancies   Glucose  ...  DiabetesPedigreeFunction       Age\n",
            "0       0.639947  0.848324  ...                  0.468492  1.425995\n",
            "1      -0.844885 -1.123396  ...                 -0.365061 -0.190672\n",
            "2       1.233880  1.943724  ...                  0.604397 -0.105584\n",
            "3      -0.844885 -0.998208  ...                 -0.920763 -1.041549\n",
            "4      -1.141852  0.504055  ...                  5.484909 -0.020496\n",
            "..           ...       ...  ...                       ...       ...\n",
            "763     1.827813 -0.622642  ...                 -0.908682  2.532136\n",
            "764    -0.547919  0.034598  ...                 -0.398282 -0.531023\n",
            "765     0.342981  0.003301  ...                 -0.685193 -0.275760\n",
            "766    -0.844885  0.159787  ...                 -0.371101  1.170732\n",
            "767    -0.844885 -0.873019  ...                 -0.473785 -0.871374\n",
            "\n",
            "[768 rows x 8 columns]\n"
          ],
          "name": "stdout"
        }
      ]
    },
    {
      "cell_type": "code",
      "metadata": {
        "id": "UJ0CUEQhr2eS"
      },
      "source": [
        "datax = pd.DataFrame (x , columns= columns)"
      ],
      "execution_count": null,
      "outputs": []
    },
    {
      "cell_type": "code",
      "metadata": {
        "id": "VU0EXKU_r2i8"
      },
      "source": [
        "from sklearn.model_selection import train_test_split\n",
        "x_train, x_test, Y_train, Y_test = train_test_split(data_x, y, test_size = 0.3)"
      ],
      "execution_count": null,
      "outputs": []
    },
    {
      "cell_type": "code",
      "metadata": {
        "colab": {
          "base_uri": "https://localhost:8080/"
        },
        "id": "I-3zurovr2lC",
        "outputId": "168a5f88-820f-401a-ecb6-a4fc33315f39"
      },
      "source": [
        "from sklearn.linear_model import LogisticRegression\n",
        "reg = LogisticRegression()\n",
        "reg.fit(x_train, Y_train)"
      ],
      "execution_count": null,
      "outputs": [
        {
          "output_type": "execute_result",
          "data": {
            "text/plain": [
              "LogisticRegression(C=1.0, class_weight=None, dual=False, fit_intercept=True,\n",
              "                   intercept_scaling=1, l1_ratio=None, max_iter=100,\n",
              "                   multi_class='auto', n_jobs=None, penalty='l2',\n",
              "                   random_state=None, solver='lbfgs', tol=0.0001, verbose=0,\n",
              "                   warm_start=False)"
            ]
          },
          "metadata": {
            "tags": []
          },
          "execution_count": 16
        }
      ]
    },
    {
      "cell_type": "code",
      "metadata": {
        "id": "2--MW1GZvYlG"
      },
      "source": [
        "y_pred = reg.predict(x_test)"
      ],
      "execution_count": null,
      "outputs": []
    },
    {
      "cell_type": "code",
      "metadata": {
        "colab": {
          "base_uri": "https://localhost:8080/"
        },
        "id": "BWQex1XAvYqa",
        "outputId": "a86a1907-2119-42e1-a485-7b5796ff26b0"
      },
      "source": [
        "print(reg.score(x_test, Y_test))"
      ],
      "execution_count": null,
      "outputs": [
        {
          "output_type": "stream",
          "text": [
            "0.7792207792207793\n"
          ],
          "name": "stdout"
        }
      ]
    },
    {
      "cell_type": "code",
      "metadata": {
        "id": "vV2YbBTLvYuf"
      },
      "source": [
        ""
      ],
      "execution_count": null,
      "outputs": []
    }
  ]
}
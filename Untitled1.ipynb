{
  "nbformat": 4,
  "nbformat_minor": 0,
  "metadata": {
    "colab": {
      "name": "Untitled1.ipynb",
      "provenance": []
    },
    "kernelspec": {
      "name": "python3",
      "display_name": "Python 3"
    },
    "language_info": {
      "name": "python"
    }
  },
  "cells": [
    {
      "cell_type": "code",
      "metadata": {
        "id": "h_0pzZup7xLR"
      },
      "source": [
        "#mean # value : list [ 1,2,3,5,.........]\n",
        "def mean(value):\n",
        "  return sum(value)/len(value)"
      ],
      "execution_count": null,
      "outputs": []
    },
    {
      "cell_type": "code",
      "metadata": {
        "colab": {
          "base_uri": "https://localhost:8080/"
        },
        "id": "hxUmo8nt-r1x",
        "outputId": "6711d83f-5fde-438d-c9f8-68c35936507a"
      },
      "source": [
        "list1 = [1,2,3,4]\n",
        "sum1 = sum(list1)\n",
        "len1 = len(list1)\n",
        "mean1 = sum1/len1\n",
        "print(mean1)"
      ],
      "execution_count": null,
      "outputs": [
        {
          "output_type": "stream",
          "text": [
            "2.5\n"
          ],
          "name": "stdout"
        }
      ]
    },
    {
      "cell_type": "code",
      "metadata": {
        "id": "IkHYjAQJ_E4D"
      },
      "source": [
        "# variance  : list values : 1,2,3,4,5\n",
        "# summation of ( (x- xmean)^2)\n",
        "def variance(values,mean):\n",
        "  return sum([(x-mean)**2 for x in values])"
      ],
      "execution_count": null,
      "outputs": []
    },
    {
      "cell_type": "code",
      "metadata": {
        "id": "yJrpNSLF_E7N"
      },
      "source": [
        "# co variance : \n",
        "def covariance(x, y, x_mean, y_mean):\n",
        "  covar = 0 \n",
        "  for i in range(len(x)):\n",
        "    covar = covar + (x[i]-x_mean)*(y[i]- y_mean)\n",
        "  return covar"
      ],
      "execution_count": null,
      "outputs": []
    },
    {
      "cell_type": "code",
      "metadata": {
        "id": "m5wzpRjZ_E-h"
      },
      "source": [
        "# equation of LR : y = b0+b1x\n",
        "b1 = covariance/variance "
      ],
      "execution_count": null,
      "outputs": []
    },
    {
      "cell_type": "code",
      "metadata": {
        "id": "u1D4jKfF_FBY"
      },
      "source": [
        "def coeff(dataset):\n",
        "  x =  [row[0] for row in dataset]\n",
        "  y =  [row[1] for row in dataset]\n",
        "  x_mean = mean(x)\n",
        "  y_mean = mean(y)\n",
        "  b1 = covariance(x,y, x_mean, y_mean)/variance(x, x_mean)\n",
        "  b0 = y_mean - b1*x_mean\n",
        "return [b0,b1]\n",
        "\n",
        "def predictions():\n",
        "  coeff(dataset)"
      ],
      "execution_count": null,
      "outputs": []
    },
    {
      "cell_type": "code",
      "metadata": {
        "colab": {
          "base_uri": "https://localhost:8080/"
        },
        "id": "TEpgenEeCobN",
        "outputId": "1c06576b-5ef4-4534-e4ec-93897312ae39"
      },
      "source": [
        "import pandas as pd\n",
        "\n",
        "df = pd.read_csv('Salary_Data.csv')\n",
        "print(df)"
      ],
      "execution_count": null,
      "outputs": [
        {
          "output_type": "stream",
          "text": [
            "    YearsExperience    Salary\n",
            "0               1.1   39343.0\n",
            "1               1.3   46205.0\n",
            "2               1.5   37731.0\n",
            "3               2.0   43525.0\n",
            "4               2.2   39891.0\n",
            "5               2.9   56642.0\n",
            "6               3.0   60150.0\n",
            "7               3.2   54445.0\n",
            "8               3.2   64445.0\n",
            "9               3.7   57189.0\n",
            "10              3.9   63218.0\n",
            "11              4.0   55794.0\n",
            "12              4.0   56957.0\n",
            "13              4.1   57081.0\n",
            "14              4.5   61111.0\n",
            "15              4.9   67938.0\n",
            "16              5.1   66029.0\n",
            "17              5.3   83088.0\n",
            "18              5.9   81363.0\n",
            "19              6.0   93940.0\n",
            "20              6.8   91738.0\n",
            "21              7.1   98273.0\n",
            "22              7.9  101302.0\n",
            "23              8.2  113812.0\n",
            "24              8.7  109431.0\n",
            "25              9.0  105582.0\n",
            "26              9.5  116969.0\n",
            "27              9.6  112635.0\n",
            "28             10.3  122391.0\n",
            "29             10.5  121872.0\n"
          ],
          "name": "stdout"
        }
      ]
    },
    {
      "cell_type": "code",
      "metadata": {
        "colab": {
          "base_uri": "https://localhost:8080/"
        },
        "id": "0wD3qPC0Cod5",
        "outputId": "afebbbd7-aa70-4f08-cd9d-40b1fe7b7ac0"
      },
      "source": [
        "# independent values x \n",
        "x = df.iloc[:,:-1].values\n",
        "print(x)"
      ],
      "execution_count": null,
      "outputs": [
        {
          "output_type": "stream",
          "text": [
            "[[ 1.1]\n",
            " [ 1.3]\n",
            " [ 1.5]\n",
            " [ 2. ]\n",
            " [ 2.2]\n",
            " [ 2.9]\n",
            " [ 3. ]\n",
            " [ 3.2]\n",
            " [ 3.2]\n",
            " [ 3.7]\n",
            " [ 3.9]\n",
            " [ 4. ]\n",
            " [ 4. ]\n",
            " [ 4.1]\n",
            " [ 4.5]\n",
            " [ 4.9]\n",
            " [ 5.1]\n",
            " [ 5.3]\n",
            " [ 5.9]\n",
            " [ 6. ]\n",
            " [ 6.8]\n",
            " [ 7.1]\n",
            " [ 7.9]\n",
            " [ 8.2]\n",
            " [ 8.7]\n",
            " [ 9. ]\n",
            " [ 9.5]\n",
            " [ 9.6]\n",
            " [10.3]\n",
            " [10.5]]\n"
          ],
          "name": "stdout"
        }
      ]
    },
    {
      "cell_type": "code",
      "metadata": {
        "colab": {
          "base_uri": "https://localhost:8080/"
        },
        "id": "NA1NcEuTCogf",
        "outputId": "075dae8c-c5e2-418b-872e-07f141f8dc6c"
      },
      "source": [
        "y = df.iloc[:,1].values\n",
        "print(y)"
      ],
      "execution_count": null,
      "outputs": [
        {
          "output_type": "stream",
          "text": [
            "[ 39343.  46205.  37731.  43525.  39891.  56642.  60150.  54445.  64445.\n",
            "  57189.  63218.  55794.  56957.  57081.  61111.  67938.  66029.  83088.\n",
            "  81363.  93940.  91738.  98273. 101302. 113812. 109431. 105582. 116969.\n",
            " 112635. 122391. 121872.]\n"
          ],
          "name": "stdout"
        }
      ]
    },
    {
      "cell_type": "code",
      "metadata": {
        "colab": {
          "base_uri": "https://localhost:8080/"
        },
        "id": "qUd9wrMGCojC",
        "outputId": "683fdc2f-b18e-44e0-e7e1-1442982d8ea6"
      },
      "source": [
        "from sklearn.model_selection import train_test_split\n",
        "x_train, x_test, y_train, y_test = train_test_split(x,y, test_size = 0.2)\n",
        "\n",
        "print(x_test)"
      ],
      "execution_count": null,
      "outputs": [
        {
          "output_type": "stream",
          "text": [
            "[[ 4.1]\n",
            " [ 2.9]\n",
            " [ 2. ]\n",
            " [ 3.9]\n",
            " [10.5]\n",
            " [ 3.2]]\n"
          ],
          "name": "stdout"
        }
      ]
    },
    {
      "cell_type": "code",
      "metadata": {
        "colab": {
          "base_uri": "https://localhost:8080/"
        },
        "id": "L9eiNxZnF2sB",
        "outputId": "5d3d578a-a645-42f8-f6d4-4eba62d018cc"
      },
      "source": [
        "from sklearn.linear_model import LinearRegression\n",
        "reg  = LinearRegression()\n",
        "reg.fit(x_train,y_train)"
      ],
      "execution_count": null,
      "outputs": [
        {
          "output_type": "execute_result",
          "data": {
            "text/plain": [
              "LinearRegression(copy_X=True, fit_intercept=True, n_jobs=None, normalize=False)"
            ]
          },
          "metadata": {
            "tags": []
          },
          "execution_count": 9
        }
      ]
    },
    {
      "cell_type": "code",
      "metadata": {
        "id": "j8j1mqmiF2wm"
      },
      "source": [
        "y_pred = reg.predict(x_test)"
      ],
      "execution_count": null,
      "outputs": []
    },
    {
      "cell_type": "code",
      "metadata": {
        "colab": {
          "base_uri": "https://localhost:8080/"
        },
        "id": "FHaeX6LoF2z9",
        "outputId": "554285a3-341e-4725-e571-6f3afaae2c37"
      },
      "source": [
        "x_test1 = [[100]]\n",
        "y_pred1 = reg.predict(x_test1)\n",
        "print(\"the predicted salary for a person having\", x_test1, \"years of experience is\", y_pred1)"
      ],
      "execution_count": null,
      "outputs": [
        {
          "output_type": "stream",
          "text": [
            "the predicted salary for a person having [[100]] years of experience is [974893.08697396]\n"
          ],
          "name": "stdout"
        }
      ]
    },
    {
      "cell_type": "code",
      "metadata": {
        "colab": {
          "base_uri": "https://localhost:8080/",
          "height": 279
        },
        "id": "nMN_zf43F220",
        "outputId": "4b94f66e-fd6c-4525-e331-6452ba4e0be8"
      },
      "source": [
        "import matplotlib.pyplot as plt\n",
        "\n",
        "plt.scatter(x_train, y_train, color = 'blue')\n",
        "plt.plot( x_train, reg.predict(x_train), color = 'orange')\n",
        "plt.xlabel(\"experience\")\n",
        "plt.ylabel('salary')\n",
        "plt.show()"
      ],
      "execution_count": null,
      "outputs": [
        {
          "output_type": "display_data",
          "data": {
            "image/png": "[encoded data removed]",
            "text/plain": [
              "<Figure size 432x288 with 1 Axes>"
            ]
          },
          "metadata": {
            "tags": [],
            "needs_background": "light"
          }
        }
      ]
    }
  ]
}